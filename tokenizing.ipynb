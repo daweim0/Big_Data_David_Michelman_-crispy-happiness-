{
 "cells": [
  {
   "cell_type": "markdown",
   "metadata": {},
   "source": [
    "# Code from 3-3-2016\n",
    "Most of it is ms. Anderson's code"
   ]
  },
  {
   "cell_type": "code",
   "execution_count": 25,
   "metadata": {
    "collapsed": false
   },
   "outputs": [
    {
     "name": "stdout",
     "output_type": "stream",
     "text": [
      "﻿The Project Gutenberg EBook of Pride and Prejudice, by Jane Austen\n",
      "\n",
      "This eBook is for the use of an\n"
     ]
    }
   ],
   "source": [
    "with open('pride.txt', 'r', errors='ignore') as f:\n",
    "    textfile = f.read()\n",
    "print(textfile[0:100])"
   ]
  },
  {
   "cell_type": "code",
   "execution_count": 26,
   "metadata": {
    "collapsed": false,
    "scrolled": true
   },
   "outputs": [
    {
     "name": "stdout",
     "output_type": "stream",
     "text": [
      "['all', 'just', 'being', 'over', 'both', 'through', 'yourselves', 'its', 'before', 'herself', 'had', 'should', 'to', 'only', 'under', 'ours', 'has', 'do', 'them', 'his', 'very', 'they', 'not', 'during', 'now', 'him', 'nor', 'did', 'this', 'she', 'each', 'further', 'where', 'few', 'because', 'doing', 'some', 'are', 'our', 'ourselves', 'out', 'what', 'for', 'while', 'does', 'above', 'between', 't', 'be', 'we', 'who', 'were', 'here', 'hers', 'by', 'on', 'about', 'of', 'against', 's', 'or', 'own', 'into', 'yourself', 'down', 'your', 'from', 'her', 'their', 'there', 'been', 'whom', 'too', 'themselves', 'was', 'until', 'more', 'himself', 'that', 'but', 'don', 'with', 'than', 'those', 'he', 'me', 'myself', 'these', 'up', 'will', 'below', 'can', 'theirs', 'my', 'and', 'then', 'is', 'am', 'it', 'an', 'as', 'itself', 'at', 'have', 'in', 'any', 'if', 'again', 'no', 'when', 'same', 'how', 'other', 'which', 'you', 'after', 'most', 'such', 'why', 'a', 'off', 'i', 'yours', 'so', 'the', 'having', 'once', 'mr', 'mrs']\n"
     ]
    }
   ],
   "source": [
    "with open('stopwords.txt', 'r', errors='ignore') as sf:\n",
    "    stopfile = sf.read()\n",
    "stopwords = stopfile.split()\n",
    "print(stopwords)"
   ]
  },
  {
   "cell_type": "code",
   "execution_count": 27,
   "metadata": {
    "collapsed": false
   },
   "outputs": [
    {
     "name": "stdout",
     "output_type": "stream",
     "text": [
      " the project gutenberg ebook of pride and prejudice  by jane austen  this ebook is for the use of anyone anywhere at no cost and with almost no restrictions whatsoever   you may copy it  give it away \n"
     ]
    }
   ],
   "source": [
    "import re  # regular expressions package\n",
    "letters_only = re.sub(\"[^a-zA-Z]\", \" \", textfile)  # replaces all characters not between a-z or A-Z with a space.\n",
    "# (ms. Anderson doesn't expect us to know how to use regular expressions)\n",
    "lower_case = letters_only.lower()\n",
    "print(lower_case[0:200])"
   ]
  },
  {
   "cell_type": "code",
   "execution_count": 28,
   "metadata": {
    "collapsed": false,
    "scrolled": false
   },
   "outputs": [
    {
     "name": "stdout",
     "output_type": "stream",
     "text": [
      "['', 'the', 'project', 'gutenberg', 'ebook', 'of', 'pride', 'and', 'prejudice', '', 'by', 'jane', 'austen', '', 'this', 'ebook', 'is', 'for', 'the', 'use', 'of', 'anyone', 'anywhere', 'at', 'no', 'cost', 'and', 'with', 'almost', 'no', 'restrictions', 'whatsoever', '', '', 'you', 'may', 'copy', 'it', '', 'give', 'it', 'away', 'or', 're', 'use', 'it', 'under', 'the', 'terms', 'of', 'the', 'project', 'gutenberg', 'license', 'included', 'with', 'this', 'ebook', 'or', 'online', 'at', 'www', 'gutenberg', 'org', '', '', 'title', '', 'pride', 'and', 'prejudice', '', 'author', '', 'jane', 'austen', '', 'posting', 'date', '', 'august', '', '', '', '', '', '', '', '', '', '', 'ebook', '', '', '', '', '', '', '', 'release']\n"
     ]
    }
   ],
   "source": [
    "words = lower_case.split(' ')\n",
    "print(words[0:100])"
   ]
  },
  {
   "cell_type": "code",
   "execution_count": 29,
   "metadata": {
    "collapsed": false
   },
   "outputs": [
    {
     "name": "stdout",
     "output_type": "stream",
     "text": [
      "['project', 'gutenberg', 'ebook', 'pride', 'prejudice', 'jane', 'austen', 'ebook', 'use', 'anyone', 'anywhere', 'cost', 'almost', 'restrictions', 'whatsoever', 'may', 'copy', 'give', 'away', 're', 'use', 'terms', 'project', 'gutenberg', 'license', 'included', 'ebook', 'online', 'www', 'gutenberg', 'org', 'title', 'pride', 'prejudice', 'author', 'jane', 'austen', 'posting', 'date', 'august', 'ebook', 'release', 'date', 'june', 'last', 'updated', 'february', 'language', 'english', 'start', 'project', 'gutenberg', 'ebook', 'pride', 'prejudice', 'produced', 'anonymous', 'volunteers', 'pride', 'prejudice', 'jane', 'austen', 'chapter', 'truth', 'universally', 'acknowledged', 'single', 'man', 'possession', 'good', 'fortune', 'must', 'want', 'wife', 'however', 'little', 'known', 'feelings', 'views', 'man', 'may', 'first', 'entering', 'neighbourhood', 'truth', 'well', 'fixed', 'minds', 'surrounding', 'families', 'considered', 'rightful', 'property', 'one', 'daughters', 'dear', 'bennet', 'said', 'lady', 'one']\n"
     ]
    }
   ],
   "source": [
    "words = [w for w in words if not (w in stopwords or w == '')] #for every w, \n",
    "# check to see if w is not in stopwrods or is equal to '', then put it back in the list\n",
    "print(words[0:100])"
   ]
  },
  {
   "cell_type": "code",
   "execution_count": 30,
   "metadata": {
    "collapsed": false
   },
   "outputs": [
    {
     "name": "stdout",
     "output_type": "stream",
     "text": [
      "53\n"
     ]
    }
   ],
   "source": [
    "# two different ways of creating the dictionary of word frequencies. \n",
    "\n",
    "# Ms. Anderson presented this method during class\n",
    "# from collections import Counter\n",
    "# wordcount = Counter(words)  # returns a dictionary with the frequencies of the words\n",
    "# print(wordcount['pride'])\n",
    "\n",
    "\n",
    "# Alternate way to create the dictionary of word frequencies. This is my own code, not ms. Anderson's\n",
    "wordcount = {}\n",
    "for word in words:\n",
    "    try:\n",
    "        wordcount[word] += 1\n",
    "    except KeyError:\n",
    "        wordcount[word] = 1\n",
    "print(wordcount['pride'])\n",
    "        "
   ]
  },
  {
   "cell_type": "code",
   "execution_count": 32,
   "metadata": {
    "collapsed": false
   },
   "outputs": [
    {
     "name": "stdout",
     "output_type": "stream",
     "text": [
      "['elizabeth', 'could', 'would', 'darcy', 'said', 'much', 'bennet', 'must', 'bingley', 'jane']\n",
      "[635, 527, 471, 418, 401, 329, 323, 318, 306, 295]\n"
     ]
    }
   ],
   "source": [
    "# Print the 10 most commonly used words\n",
    "# This is David's solution to an inclass exercise. A proper solution would run in better than O(n^2) time.\n",
    "\n",
    "counts = list()\n",
    "word = list()\n",
    "\n",
    "counts.append(0)\n",
    "word.append('foobar')\n",
    "\n",
    "for key in wordcount:\n",
    "#     print('key:', key)\n",
    "    n_occur = wordcount[key]\n",
    "#     print('n_occur:', n_occur)\n",
    "    \n",
    "    for i in range(0, 1000):\n",
    "        if n_occur > counts[i]:\n",
    "            counts.insert(i, n_occur)\n",
    "            word.insert(i, key)\n",
    "            break\n",
    "        else:\n",
    "            i += 1\n",
    "            \n",
    "print(word[0:10])\n",
    "print(counts[0:10])"
   ]
  },
  {
   "cell_type": "code",
   "execution_count": 35,
   "metadata": {
    "collapsed": false
   },
   "outputs": [
    {
     "name": "stdout",
     "output_type": "stream",
     "text": [
      "0.09923425535239881\n",
      "0.00781372089388967\n"
     ]
    }
   ],
   "source": [
    "# create dictionary of weights\n",
    "\n",
    "tf = {}\n",
    "for key in wordcount:\n",
    "    tf[key] = wordcount[key] / float(len(wordcount))\n",
    "\n",
    "print(tf['elizabeth'])\n",
    "print(tf['daughters'])"
   ]
  }
 ],
 "metadata": {
  "kernelspec": {
   "display_name": "Python 3",
   "language": "python",
   "name": "python3"
  },
  "language_info": {
   "codemirror_mode": {
    "name": "ipython",
    "version": 3
   },
   "file_extension": ".py",
   "mimetype": "text/x-python",
   "name": "python",
   "nbconvert_exporter": "python",
   "pygments_lexer": "ipython3",
   "version": "3.5.1"
  }
 },
 "nbformat": 4,
 "nbformat_minor": 0
}
