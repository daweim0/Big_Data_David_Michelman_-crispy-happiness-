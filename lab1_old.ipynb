{
 "worksheets": [
  {
   "cells": [
    {
     "cell_type": "code",
     "execution_count": null,
     "metadata": {},
     "outputs": [
      {
       "output_type": "stream",
       "stream": "stdout",
       "text": [
        "west median  47\neast median  53\nwest mean  73.7633136095\neast mean  77.0118343195\nall west modes: [1]\nall east modes: [1]\n\n"
       ]
      },
      {
       "output_type": "pyout",
       "prompt_number": 1,
       "text": [
        "<matplotlib.text.Text at 0x7fafa9c39da0>"
       ],
       "metadata": {}
      },
      {
       "output_type": "display_data",
       "png": "[encoded data removed]",
       "text": [
        "<matplotlib.figure.Figure at 0x7fafd7f976d8>"
       ],
       "metadata": {}
      }
     ],
     "input": [
      "%matplotlib inline\n",
      "import numpy as np\n",
      "import statistics as stat\n",
      "import matplotlib.pyplot as plt\n",
      "from dateutil import parser\n",
      "from collections import Counter\n",
      "\n",
      "foobar = open('newfilethatneedstobefound', 'w')\n",
      "\n",
      "#File Reading\n",
      "#Emma Anderson, Big Data, 1/22/16\n",
      "#open and save the file for reading\n",
      "data_file = open(\"FreBridge.csv\", \"r\")\n",
      "#create an empty list to store the data\n",
      "data_list = []\n",
      "#put all lines from the file into a list\n",
      "for ii in data_file:\n",
      "    data_list.append(ii)\n",
      "\n",
      "#remove the first element (column header)\n",
      "del data_list[0]\n",
      "#create empty lists for westbound and eastbound bikes\n",
      "west = list()\n",
      "east = list()\n",
      "times = list()\n",
      "for jj in range(len(data_list)):\n",
      "    # strip off the \\n (newline)\n",
      "    data_list[jj] = data_list[jj].replace(\"\\n\", \"\")\n",
      "    # make into a list of lists of just numbers\n",
      "    data_list[jj] = data_list[jj].split(\",\")\n",
      "    # add data to specific lists for west and east\n",
      "    west.append(int(data_list[jj][1]))\n",
      "    east.append(int(data_list[jj][2]))\n",
      "    times.append(data_list[jj][0])\n",
      "\n",
      "west = np.array(west)\n",
      "east = np.array(east)\n",
      "times = np.array(times)\n",
      "\n",
      "\n",
      "print(\"west median \", stat.median(west))\n",
      "print(\"east median \", stat.median(east))\n",
      "\n",
      "print(\"west mean \", stat.mean(west))\n",
      "print(\"east mean \", stat.mean(east))\n",
      "\n",
      "\n",
      "# function that returns all of the modes for a dataset\n",
      "def all_modes(dataset):\n",
      "    data_west = Counter(west)\n",
      "    most_common = data_west.most_common(1)\n",
      "    modes = list()\n",
      "    modes.append(most_common[0][0])\n",
      "    greatest_occurance = most_common[0][1]\n",
      "    most_common.append(most_common[0][0])\n",
      "    whole_list = data_west.most_common()\n",
      "    for i in range(1, len(whole_list)):\n",
      "        if whole_list[i][1] == greatest_occurance:\n",
      "            modes.append(whole_list[i][0])\n",
      "        else:\n",
      "            break\n",
      "    return (modes)\n",
      "\n",
      "print(\"all west modes:\", all_modes(west))\n",
      "print(\"all east modes:\", all_modes(east))\n",
      "\n",
      "print()\n",
      "\n",
      "\n",
      "data_east = Counter(west)\n",
      "# print(\"east mode:\", data_east.most_common(1)[0][0], \"with\", data_east.most_common(1)[0][0] + \"occurances\")\n",
      "\n",
      "# fig1 = plt.figure()\n",
      "# ax1 = fig1.add_subplot(111)\n",
      "# ax1.hist(west)\n",
      "# fig1.suptitle('west')\n",
      "\n",
      "fig2 = plt.figure()\n",
      "ax2 = fig2.add_subplot(111)\n",
      "ax2.hist(east)\n",
      "fig2.suptitle('East')\n",
      "\n",
      "# fig3 = plt.figure()\n",
      "# ax3 = fig3.add_subplot(111)\n",
      "# ax3.plot(west)\n",
      "\n",
      "# ax3.plot(east)"
     ],
     "language": "python",
     "prompt_number": 1
    },
    {
     "cell_type": "markdown",
     "metadata": {},
     "source": [
      "I would argue that the median is the most useful peice of information because it tells us how many people cross the bridge on an average day (not the average number of people to corss the bridge). It isn't skewed by signle days when rediculously high numbers of people corss. The mode is not useful because it counts days where 97, 98, or 99 people corss seperately even though they are incredibly similar. The computed mode was 1, which doesn't really represent the data."
     ]
    },
    {
     "cell_type": "heading",
     "metadata": {},
     "level": 1,
     "source": [
      "Part 2"
     ]
    },
    {
     "cell_type": "code",
     "execution_count": null,
     "metadata": {},
     "outputs": [
      {
       "output_type": "stream",
       "stream": "stdout",
       "text": [
        "loading 28440 data points\nmissing data on 03/10/2013 03:00:00 AM (line number, 3794)\nmissing data on 06/14/2013 09:00:00 AM (line number, 6105)\nmissing data on 06/14/2013 10:00:00 AM (line number, 6106)\nmissing data on 03/09/2014 03:00:00 AM (line number, 12530)\nmissing data on"
       ]
      },
      {
       "output_type": "stream",
       "stream": "stdout",
       "text": [
        " 03/08/2015 03:00:00 AM (line number, 21266)\nmissing data on 04/21/2015 11:00:00 AM (line number, 22331)\nmissing data on 04/21/2015 12:00:00 PM (line number, 22332)\n07/13/2013 found in 07/13/2013 12:00:00 AM\n07/13/2013 found in 07/13/2013 01:00:00 AM\n07/13/2013 found in 07/13/2013 02:00:00 AM\n07/13/2013 found in 07/13/2013 03:00:00 AM\n07/13/2013 found in 07/13/2013 04:00:00 AM\n07/13/2013 found in 07/13/2013 05:00:00 AM\n07/13/2013 found in 07/13/2013 06:00:00 AM\n07/13/2013 found in 07/13/2013 07:00:00 AM\n07/13/2013 found in 07/13/2013 08:00:00 AM\n07/13/2013 found in 07/13/2013 09:00:00 AM\n07/13/2013 found in 07/13/2013 10:00:00 AM\n07/13/2013 found in 07/13/2013 11:00:00 AM\n07/13/2013 found in 07/13/2013 12:00:00 PM\n07/13/2013 found in 07/13/2013 01:00:00 PM\n07/13/2013 found in 07/13/2013 02:00:00 PM\n07/13/2013 found in 07/13/2013 03:00:00 PM\n07/13/2013 found in 07/13/2013 04:00:00 PM\n07/13/2013 found in 07/13/2013 05:00:00 PM\n07/13/2013 found in 07/13/2013 06:00:00 PM\n07/13/2013 found in 07/13/2013 07:00:00 PM\n07/13/2013 found in 07/13/2013 08:00:00 PM\n07/13/2013 found in 07/13/2013 09:00:00 PM\n07/13/2013 found in 07/13/2013 10:00:00 PM\n07/13/2013 found in 07/13/2013 11:00:00 PM\n07/11/2014"
       ]
      },
      {
       "output_type": "stream",
       "stream": "stdout",
       "text": [
        " found in 07/11/2014 12:00:00 AM\n07/11/2014 found in 07/11/2014 01:00:00 AM\n07/11/2014 found in 07/11/2014 02:00:00 AM\n07/11/2014 found in 07/11/2014 03:00:00 AM\n07/11/2014 found in 07/11/2014 04:00:00 AM\n07/11/2014 found in 07/11/2014 05:00:00 AM\n07/11/2014 found in 07/11/2014 06:00:00 AM\n07/11/2014 found in 07/11/2014 07:00:00 AM\n07/11/2014 found in 07/11/2014 08:00:00 AM\n07/11/2014 found in 07/11/2014 09:00:00 AM\n07/11/2014 found in 07/11/2014 10:00:00 AM\n07/11/2014 found in 07/11/2014 11:00:00 AM\n07/11/2014 found in 07/11/2014 12:00:00 PM\n07/11/2014 found in 07/11/2014 01:00:00 PM\n07/11/2014 found in 07/11/2014 02:00:00 PM\n07/11/2014 found in 07/11/2014 03:00:00 PM\n07/11/2014 found in 07/11/2014 04:00:00 PM\n07/11/2014 found in 07/11/2014 05:00:00 PM\n07/11/2014 found in 07/11/2014 06:00:00 PM\n07/11/2014 found in 07/11/2014 07:00:00 PM\n07/11/2014 found in 07/11/2014 08:00:00 PM\n07/11/2014 found in 07/11/2014 09:00:00 PM\n07/11/2014 found in 07/11/2014 10:00:00 PM\n07/11/2014 found in 07/11/2014 11:00:00 PM\n07/18/2014 found in 07/18/2014 12:00:00 AM\n07/18/2014 found in 07/18/2014 01:00:00 AM\n07/18/2014 found in 07/18/2014 02:00:00 AM\n07/18/2014 found in 07/18/2014 03:00:00 AM\n07/18/2014 found in 07/18/2014 04:00:00 AM\n07/18/2014 found in 07/18/2014 05:00:00 AM\n07/18/2014 found in 07/18/2014 06:00:00 AM\n07/18/2014 found in 07/18/2014 07:00:00 AM\n07/18/2014 found in 07/18/2014 08:00:00 AM\n07/18/2014 found in 07/18/2014 09:00:00 AM\n07/18/2014 found in 07/18/2014 10:00:00 AM\n07/18/2014 found in 07/18/2014 11:00:00 AM\n07/18/2014 found in 07/18/2014 12:00:00 PM\n07/18/2014 found in 07/18/2014 01:00:00 PM\n07/18/2014 found in 07/18/2014 02:00:00 PM\n07/18/2014 found in 07/18/2014 03:00:00 PM\n07/18/2014 found in 07/18/2014 04:00:00 PM\n07/18/2014 found in 07/18/2014 05:00:00 PM\n07/18/2014 found in 07/18/2014 06:00:00 PM\n07/18/2014 found in 07/18/2014 07:00:00 PM\n07/18/2014 found in 07/18/2014 08:00:00 PM\n07/18/2014 found in 07/18/2014 09:00:00 PM\n07/18/2014 found in 07/18/2014 10:00:00 PM\n07/18/2014 found in 07/18/2014 11:00:00 PM\n07/25/2014 found in 07/25/2014 12:00:00 AM\n07/25/2014 found in 07/25/2014 01:00:00 AM\n07/25/2014 found in 07/25/2014 02:00:00 AM\n07/25/2014 found in 07/25/2014 03:00:00 AM\n07/25/2014 found in 07/25/2014 04:00:00 AM\n07/25/2014 found in 07/25/2014 05:00:00 AM\n07/25/2014 found in 07/25/2014 06:00:00 AM\n07/25/2014 found in 07/25/2014 07:00:00 AM\n07/25/2014 found in 07/25/2014 08:00:00 AM\n07/25/2014 found in 07/25/2014 09:00:00 AM\n07/25/2014 found in 07/25/2014 10:00:00 AM\n07/25/2014 found in 07/25/2014 11:00:00 AM\n07/25/2014 found in 07/25/2014 12:00:00 PM\n07/25/2014 found in 07/25/2014 01:00:00 PM\n07/25/2014 found in 07/25/2014 02:00:00 PM\n07/25/2014 found in 07/25/2014 03:00:00 PM\n07/25/2014 found in 07/25/2014 04:00:00 PM\n07/25/2014 found in 07/25/2014 05:00:00 PM\n07/25/2014 found in 07/25/2014 06:00:00 PM\n07/25/2014 found in 07/25/2014 07:00:00 PM\n07/25/2014 found in 07/25/2014 08:00:00 PM\n07/25/2014 found in 07/25/2014 09:00:00 PM\n07/25/2014 found in 07/25/2014 10:00:00 PM\n07/25/2014 found in 07/25/2014 11:00:00 PM\n07/10/2015"
       ]
      },
      {
       "output_type": "stream",
       "stream": "stdout",
       "text": [
        " found in 07/10/2015 12:00:00 AM\n07/10/2015 found in 07/10/2015 01:00:00 AM\n07/10/2015 found in 07/10/2015 02:00:00 AM\n07/10/2015 found in 07/10/2015 03:00:00 AM\n07/10/2015 found in 07/10/2015 04:00:00 AM\n07/10/2015 found in 07/10/2015 05:00:00 AM\n07/10/2015 found in 07/10/2015 06:00:00 AM\n07/10/2015 found in 07/10/2015 07:00:00 AM\n07/10/2015 found in 07/10/2015 08:00:00 AM\n07/10/2015 found in 07/10/2015 09:00:00 AM\n07/10/2015 found in 07/10/2015 10:00:00 AM\n07/10/2015 found in 07/10/2015 11:00:00 AM\n07/10/2015 found in 07/10/2015 12:00:00 PM\n07/10/2015 found in 07/10/2015 01:00:00 PM\n07/10/2015 found in 07/10/2015 02:00:00 PM\n07/10/2015 found in 07/10/2015 03:00:00 PM\n07/10/2015 found in 07/10/2015 04:00:00 PM\n07/10/2015 found in 07/10/2015 05:00:00 PM\n07/10/2015 found in 07/10/2015 06:00:00 PM\n07/10/2015 found in 07/10/2015 07:00:00 PM\n07/10/2015 found in 07/10/2015 08:00:00 PM\n07/10/2015 found in 07/10/2015 09:00:00 PM\n07/10/2015 found in 07/10/2015 10:00:00 PM\n07/10/2015 found in 07/10/2015 11:00:00 PM\n07/17/2015 found in 07/17/2015 12:00:00 AM\n07/17/2015 found in 07/17/2015 01:00:00 AM\n07/17/2015 found in 07/17/2015 02:00:00 AM\n07/17/2015 found in 07/17/2015 03:00:00 AM\n07/17/2015 found in 07/17/2015 04:00:00 AM\n07/17/2015 found in 07/17/2015 05:00:00 AM\n07/17/2015 found in 07/17/2015 06:00:00 AM\n07/17/2015 found in 07/17/2015 07:00:00 AM\n07/17/2015 found in 07/17/2015 08:00:00 AM\n07/17/2015 found in 07/17/2015 09:00:00 AM\n07/17/2015 found in 07/17/2015 10:00:00 AM\n07/17/2015 found in 07/17/2015 11:00:00 AM\n07/17/2015 found in 07/17/2015 12:00:00 PM\n07/17/2015 found in 07/17/2015 01:00:00 PM\n07/17/2015 found in 07/17/2015 02:00:00 PM\n07/17/2015 found in 07/17/2015 03:00:00 PM\n07/17/2015 found in 07/17/2015 04:00:00 PM\n07/17/2015 found in 07/17/2015 05:00:00 PM\n07/17/2015 found in 07/17/2015 06:00:00 PM\n07/17/2015 found in 07/17/2015 07:00:00 PM\n07/17/2015 found in 07/17/2015 08:00:00 PM\n07/17/2015 found in 07/17/2015 09:00:00 PM\n07/17/2015 found in 07/17/2015 10:00:00 PM\n07/17/2015 found in 07/17/2015 11:00:00 PM\n07/24/2015 found in 07/24/2015 12:00:00 AM\n07/24/2015 found in 07/24/2015 01:00:00 AM\n07/24/2015 found in 07/24/2015 02:00:00 AM\n07/24/2015 found in 07/24/2015 03:00:00 AM\n07/24/2015 found in 07/24/2015 04:00:00 AM\n07/24/2015 found in 07/24/2015 05:00:00 AM\n07/24/2015 found in 07/24/2015 06:00:00 AM\n07/24/2015 found in 07/24/2015 07:00:00 AM\n07/24/2015 found in 07/24/2015 08:00:00 AM\n07/24/2015 found in 07/24/2015 09:00:00 AM\n07/24/2015 found in 07/24/2015 10:00:00 AM\n07/24/2015 found in 07/24/2015 11:00:00 AM\n07/24/2015 found in 07/24/2015 12:00:00 PM\n07/24/2015 found in 07/24/2015 01:00:00 PM\n07/24/2015 found in 07/24/2015 02:00:00 PM\n07/24/2015 found in 07/24/2015 03:00:00 PM\n07/24/2015 found in 07/24/2015 04:00:00 PM\n07/24/2015 found in 07/24/2015 05:00:00 PM\n07/24/2015 found in 07/24/2015 06:00:00 PM\n07/24/2015 found in 07/24/2015 07:00:00 PM\n07/24/2015 found in 07/24/2015 08:00:00 PM\n07/24/2015 found in 07/24/2015 09:00:00 PM\n07/24/2015 found in 07/24/2015 10:00:00 PM\n07/24/2015 found in 07/24/2015 11:00:00 PM\n07/31/2015 found in 07/31/2015 12:00:00 AM\n07/31/2015 found in 07/31/2015 01:00:00 AM\n07/31/2015 found in 07/31/2015 02:00:00 AM\n07/31/2015 found in 07/31/2015 03:00:00 AM\n07/31/2015 found in 07/31/2015 04:00:00 AM\n07/31/2015 found in 07/31/2015 05:00:00 AM\n07/31/2015 found in 07/31/2015 06:00:00 AM\n07/31/2015 found in 07/31/2015 07:00:00 AM\n07/31/2015 found in 07/31/2015 08:00:00 AM\n07/31/2015 found in 07/31/2015 09:00:00 AM\n07/31/2015 found in 07/31/2015 10:00:00 AM\n07/31/2015 found in 07/31/2015 11:00:00 AM\n07/31/2015 found in 07/31/2015 12:00:00 PM\n07/31/2015 found in 07/31/2015 01:00:00 PM\n07/31/2015 found in 07/31/2015 02:00:00 PM\n07/31/2015 found in 07/31/2015 03:00:00 PM\n07/31/2015 found in 07/31/2015 04:00:00 PM\n07/31/2015 found in 07/31/2015 05:00:00 PM\n07/31/2015 found in 07/31/2015 06:00:00 PM\n07/31/2015 found in 07/31/2015 07:00:00 PM\n07/31/2015 found in 07/31/2015 08:00:00 PM\n07/31/2015 found in 07/31/2015 09:00:00 PM\n07/31/2015 found in 07/31/2015 10:00:00 PM\n07/31/2015 found in 07/31/2015 11:00:00 PM\n"
       ]
      }
     ],
     "input": [
      "%matplotlib inline\n",
      "#%matplotlib inline\n",
      "import numpy as np\n",
      "import statistics as stat\n",
      "import matplotlib.pyplot as plt\n",
      "from dateutil import parser\n",
      "from collections import Counter\n",
      "\n",
      "\n",
      "# function that returns all of the modes for a dataset in a list\n",
      "def all_modes(dataset):\n",
      "    data_west = Counter(dataset)\n",
      "    most_common = dataset.most_common(1)\n",
      "    modes = list()\n",
      "    modes.append(most_common[0][0])\n",
      "    greatest_occurance = most_common[0][1]\n",
      "    most_common.append(most_common[0][0])\n",
      "    whole_list = data_west.most_common()\n",
      "    for i in range(1, len(whole_list)):\n",
      "        if whole_list[i][1] == greatest_occurance:\n",
      "            modes.append(whole_list[i][0])\n",
      "        else:\n",
      "            break\n",
      "    return (modes)\n",
      "\n",
      "\n",
      "data_file = open('Fremont_Bridge_Hourly_Bicycle_Counts_by_Month_October_2012_to_present.csv')\n",
      "data_by_line = list()\n",
      "for line in data_file:\n",
      "    data_by_line.append(line)\n",
      "\n",
      "print(\"loading \" + str(len(data_by_line)) + \" data points\")\n",
      "\n",
      "date_raw = np.empty(len(data_by_line), dtype=object)\n",
      "west_data = np.empty(len(data_by_line))\n",
      "east_data = np.empty(len(data_by_line))\n",
      "\n",
      "for n_line in range(0, len(data_by_line)):\n",
      "    line_pre = data_by_line[n_line].replace(\"\\n\", \"\").replace(\"\\r\", \"\")\n",
      "    line_elements = line_pre.split(',')\n",
      "    try:\n",
      "        date_raw[n_line] = str(line_elements[0])\n",
      "        west_data[n_line] = line_elements[1]\n",
      "        east_data[n_line] = line_elements[2]\n",
      "    except:\n",
      "        print(\"missing data on\", date_raw[n_line], \"(line number, \" + str(n_line) + \")\")\n",
      "        west_data[n_line] = -1\n",
      "        east_data[n_line] = -1\n",
      "\n",
      "\n",
      "previous_fridays = list(('07/5/2013', '07/13/2013', '07/20/2013' '07/27/2013', '07/4/2014', '07/11/2014',\n",
      "'07/18/2014', '07/25/2014', '07/3/2015', '07/10/2015', '07/17/2015', '07/24/2015', '07/31/2015'))\n",
      "\n",
      "\n",
      "date_sums = np.zeros(len(previous_fridays))\n",
      "\n",
      "for n in range(0, date_sums.shape[0]):\n",
      "    for i in range(0, date_raw.shape[0]):\n",
      "        if date_raw[i].find(previous_fridays[n]) != -1:\n",
      "            print(previous_fridays[n], \"found in\", date_raw[i])\n"
     ],
     "language": "python",
     "prompt_number": 27
    },
    {
     "cell_type": "code",
     "execution_count": null,
     "metadata": {},
     "outputs": [],
     "input": [
      ""
     ],
     "language": "python"
    }
   ]
  }
 ],
 "cells": [],
 "metadata": {},
 "nbformat": 3,
 "nbformat_minor": 0
}