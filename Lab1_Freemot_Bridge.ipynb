{
 "cells": [
  {
   "cell_type": "markdown",
   "metadata": {
    "collapsed": false
   },
   "source": [
    "# Freemont Bridge Bicycle Usage Analysis\n",
    "by David Michelman"
   ]
  },
  {
   "cell_type": "markdown",
   "metadata": {},
   "source": [
    "## Part 1"
   ]
  },
  {
   "cell_type": "code",
   "execution_count": 24,
   "metadata": {
    "collapsed": false
   },
   "outputs": [
    {
     "name": "stdout",
     "output_type": "stream",
     "text": [
      "west median  47\n",
      "east median  53\n",
      "west mean  73.7633136095\n",
      "east mean  77.0118343195\n",
      "all west modes: [1]\n",
      "all east modes: [1]\n",
      "\n"
     ]
    },
    {
     "data": {
      "text/plain": [
       "<matplotlib.text.Text at 0x7f17f5a0ba20>"
      ]
     },
     "execution_count": 24,
     "metadata": {},
     "output_type": "execute_result"
    },
    {
     "data": {
      "image/png": "[encoded data removed]",
      "text/plain": [
       "<matplotlib.figure.Figure at 0x7f17f59996d8>"
      ]
     },
     "metadata": {},
     "output_type": "display_data"
    }
   ],
   "source": [
    "%matplotlib inline\n",
    "import numpy as np\n",
    "import statistics as stat\n",
    "import matplotlib.pyplot as plt\n",
    "from dateutil import parser\n",
    "from collections import Counter\n",
    "\n",
    "foobar = open('newfilethatneedstobefound', 'w')\n",
    "\n",
    "#File Reading\n",
    "#Emma Anderson, Big Data, 1/22/16\n",
    "#open and save the file for reading\n",
    "data_file = open(\"FreBridge.csv\", \"r\")\n",
    "#create an empty list to store the data\n",
    "data_list = []\n",
    "#put all lines from the file into a list\n",
    "for ii in data_file:\n",
    "    data_list.append(ii)\n",
    "\n",
    "#remove the first element (column header)\n",
    "del data_list[0]\n",
    "#create empty lists for westbound and eastbound bikes\n",
    "west = list()\n",
    "east = list()\n",
    "times = list()\n",
    "for jj in range(len(data_list)):\n",
    "    # strip off the \\n (newline)\n",
    "    data_list[jj] = data_list[jj].replace(\"\\n\", \"\")\n",
    "    # make into a list of lists of just numbers\n",
    "    data_list[jj] = data_list[jj].split(\",\")\n",
    "    # add data to specific lists for west and east\n",
    "    west.append(int(data_list[jj][1]))\n",
    "    east.append(int(data_list[jj][2]))\n",
    "    times.append(data_list[jj][0])\n",
    "\n",
    "west = np.array(west)\n",
    "east = np.array(east)\n",
    "times = np.array(times)\n",
    "\n",
    "\n",
    "print(\"west median \", stat.median(west))\n",
    "print(\"east median \", stat.median(east))\n",
    "\n",
    "print(\"west mean \", stat.mean(west))\n",
    "print(\"east mean \", stat.mean(east))\n",
    "\n",
    "\n",
    "# function that returns all of the modes for a dataset\n",
    "def all_modes(dataset):\n",
    "    data_west = Counter(west)\n",
    "    most_common = data_west.most_common(1)\n",
    "    modes = list()\n",
    "    modes.append(most_common[0][0])\n",
    "    greatest_occurance = most_common[0][1]\n",
    "    most_common.append(most_common[0][0])\n",
    "    whole_list = data_west.most_common()\n",
    "    for i in range(1, len(whole_list)):\n",
    "        if whole_list[i][1] == greatest_occurance:\n",
    "            modes.append(whole_list[i][0])\n",
    "        else:\n",
    "            break\n",
    "    return (modes)\n",
    "\n",
    "print(\"all west modes:\", all_modes(west))\n",
    "print(\"all east modes:\", all_modes(east))\n",
    "\n",
    "print()\n",
    "\n",
    "\n",
    "data_east = Counter(west)\n",
    "# print(\"east mode:\", data_east.most_common(1)[0][0], \"with\", data_east.most_common(1)[0][0] + \"occurances\")\n",
    "\n",
    "# fig1 = plt.figure()\n",
    "# ax1 = fig1.add_subplot(111)\n",
    "# ax1.hist(west)\n",
    "# fig1.suptitle('west')\n",
    "\n",
    "fig2 = plt.figure()\n",
    "ax2 = fig2.add_subplot(111)\n",
    "ax2.hist(east)\n",
    "fig2.suptitle('Histogram of Number of People Crossing the East Side of the Freemont Bridge by hour')\n",
    "plt.xlabel('Number of people who crossed bridge')\n",
    "plt.ylabel('Number of occurances')"
   ]
  },
  {
   "cell_type": "markdown",
   "metadata": {},
   "source": [
    "I would argue that the median is the most useful piece of information because it tells us how many people cross the bridge on an average day (not the average number of people to cross the bridge). It isn't skewed by single days when very high numbers of people cross. The mode is not useful because it counts days where 97, 98, or 99 people cross separately even though they are incredibly similar. The computed mode was 1, which doesn't really represent the data."
   ]
  },
  {
   "cell_type": "markdown",
   "metadata": {},
   "source": [
    "## Part 2"
   ]
  },
  {
   "cell_type": "code",
   "execution_count": 1,
   "metadata": {
    "collapsed": false,
    "scrolled": false
   },
   "outputs": [
    {
     "name": "stdout",
     "output_type": "stream",
     "text": [
      "loading 28440 data points\n",
      "There will probably be 3463.08333333 bicyclists crossing the Freemont Bridge on any Friday in July 2016\n",
      "The outliers and 2313.0 were removed before averaging\n"
     ]
    }
   ],
   "source": [
    "%matplotlib inline\n",
    "import numpy as np\n",
    "import statistics as stat\n",
    "import matplotlib.pyplot as plt\n",
    "from dateutil import parser\n",
    "from collections import Counter\n",
    "\n",
    "previous_fridays = ('07/05/2013', '07/13/2013', '07/20/2013', '07/27/2013', '07/04/2014', '07/11/2014',\n",
    "'07/18/2014', '07/25/2014', '07/03/2015', '07/10/2015', '07/17/2015', '07/24/2015', '07/31/2015')\n",
    "\n",
    "\n",
    "#load the data file\n",
    "data_file = open('Fremont_Bridge_Hourly_Bicycle_Counts_by_Month_October_2012_to_present.csv')\n",
    "data_by_line = list()\n",
    "for line in data_file:\n",
    "    data_by_line.append(line)\n",
    "\n",
    "print(\"loading \" + str(len(data_by_line)) + \" data points\")\n",
    "\n",
    "date_raw = np.empty(len(data_by_line), dtype=object)\n",
    "west_data = np.empty(len(data_by_line))\n",
    "east_data = np.empty(len(data_by_line))\n",
    "\n",
    "for n_line in range(0, len(data_by_line)):\n",
    "    line_pre = data_by_line[n_line].replace(\"\\n\", \"\").replace(\"\\r\", \"\")\n",
    "    line_elements = line_pre.split(',')\n",
    "    try:\n",
    "        date_raw[n_line] = str(line_elements[0])\n",
    "        west_data[n_line] = line_elements[1]\n",
    "        east_data[n_line] = line_elements[2]\n",
    "    except:\n",
    "        west_data[n_line] = -1\n",
    "        east_data[n_line] = -1\n",
    "\n",
    "date_sums = np.zeros(len(previous_fridays))\n",
    "\n",
    "for n in range(0, date_sums.shape[0]):\n",
    "    for i in range(0, date_raw.shape[0]):\n",
    "        if date_raw[i].find(previous_fridays[n]) != -1:\n",
    "            date_sums[n] += (west_data[i] + east_data[i])\n",
    "\n",
    "    \n",
    "#compute the average without outliers (in statistical sense)\n",
    "stdev = np.std(date_sums)\n",
    "average = np.mean(date_sums)\n",
    "\n",
    "filtered_counts = list()\n",
    "outliers = list()\n",
    "\n",
    "for term in date_sums:\n",
    "    if abs(average - term) < stdev * 1.5:\n",
    "        filtered_counts.append(int(term))\n",
    "    else:\n",
    "        outliers.append(term)\n",
    "average = np.mean(np.array(filtered_counts))\n",
    "\n",
    "\n",
    "print(\"There will probably be\", average, \"bicyclists crossing the Freemont Bridge on any Friday in July 2016\")\n",
    "\n",
    "# print all the outliers with appropriate comma and 'and' placement\n",
    "if len(outliers) > 0:\n",
    "    print(\"The outliers\", end = '')\n",
    "    for i in range(0, len(outliers) - 1):\n",
    "        print(\" \" + str(outliers[i]) + \",\", end = '')\n",
    "    print(\" and \" + str(outliers[len(outliers) - 1]), end = '')\n",
    "        \n",
    "              \n",
    "    print(\" were removed before averaging\")"
   ]
  },
  {
   "cell_type": "markdown",
   "metadata": {
    "collapsed": true
   },
   "source": [
    "Given the relatively small dataset, only 13 different Fridays are being considered, so I made a prediction for any Friday in July. Making a prediction for a specific Friday would only let me consider 4 data points, which I deemed too small. I computed the mean of the 13 Fridays considered after removing outliers. I did so because there might have been a holiday or other special circumstances (such as a road closure) that would create outliers but wouldn't be representative of the whole population of Fridays. There turned out to be a single outlier when only 2313 cyclists crossed the bridge.\n",
    "\n",
    "I used the mean instead of the median because outliers were already removed. The mean is typically less sensitive to skewed distributions, but the removal of statistical outliers makes it un-necessary. While I wouldn't consider this to be perfect statisitcal analasys, the outlier might not be a one-time event, removing it probably gives a more accurate estimate."
   ]
  }
 ],
 "metadata": {
  "kernelspec": {
   "display_name": "Python 3",
   "language": "python",
   "name": "python3"
  },
  "language_info": {
   "codemirror_mode": {
    "name": "ipython",
    "version": 3
   },
   "file_extension": ".py",
   "mimetype": "text/x-python",
   "name": "python",
   "nbconvert_exporter": "python",
   "pygments_lexer": "ipython3",
   "version": "3.5.1"
  }
 },
 "nbformat": 4,
 "nbformat_minor": 0
}
