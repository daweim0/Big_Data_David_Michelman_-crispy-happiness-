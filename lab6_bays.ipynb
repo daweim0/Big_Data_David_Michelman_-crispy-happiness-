{
 "cells": [
  {
   "cell_type": "code",
   "execution_count": 1,
   "metadata": {
    "collapsed": true
   },
   "outputs": [],
   "source": [
    "import csv, random, math\n",
    "\n",
    "def loadCSV(filename):\n",
    "    lines = csv.reader(open(filename, 'r'))\n",
    "    dataset = list(lines)\n",
    "#     for i in range(len(dataset)):\n",
    "#         dataset[i] = [float(x) for x in dataset[i]]\n",
    "    \n",
    "    dataset= [[float(y) for y in x] for x in dataset[i]]\n",
    "    \n",
    "    return dataset\n",
    "\n",
    "def splitDataset(dataset, splitRatio):\n",
    "    \"\"\" \n",
    "    returns [trainingSet, testset]\n",
    "    \"\"\"\n",
    "    trainSize = int(len(dataset) * splitRatio)\n",
    "    trainSet = []\n",
    "    copy = list(dataset)\n",
    "    while len(trainSet) < trainSize:\n",
    "        index = random.randrange(len(copy))\n",
    "        trainSet.append(copy.pop(index))\n",
    "\n",
    "    return [trainSet, copy]"
   ]
  },
  {
   "cell_type": "code",
   "execution_count": 2,
   "metadata": {
    "collapsed": false
   },
   "outputs": [
    {
     "ename": "FileNotFoundError",
     "evalue": "[Errno 2] No such file or directory: 'pima-indians-diabetes.data.txt'",
     "output_type": "error",
     "traceback": [
      "\u001b[1;31m---------------------------------------------------------------------------\u001b[0m",
      "\u001b[1;31mFileNotFoundError\u001b[0m                         Traceback (most recent call last)",
      "\u001b[1;32m<ipython-input-2-ac098669baaf>\u001b[0m in \u001b[0;36m<module>\u001b[1;34m()\u001b[0m\n\u001b[0;32m      1\u001b[0m \u001b[1;31m#TEST 1\u001b[0m\u001b[1;33m\u001b[0m\u001b[1;33m\u001b[0m\u001b[0m\n\u001b[0;32m      2\u001b[0m \u001b[0mfilename\u001b[0m \u001b[1;33m=\u001b[0m \u001b[1;34m'pima-indians-diabetes.data.txt'\u001b[0m\u001b[1;33m\u001b[0m\u001b[0m\n\u001b[1;32m----> 3\u001b[1;33m \u001b[0mdataset\u001b[0m \u001b[1;33m=\u001b[0m \u001b[0mloadCSV\u001b[0m\u001b[1;33m(\u001b[0m\u001b[0mfilename\u001b[0m\u001b[1;33m)\u001b[0m\u001b[1;33m\u001b[0m\u001b[0m\n\u001b[0m\u001b[0;32m      4\u001b[0m \u001b[0mprint\u001b[0m\u001b[1;33m(\u001b[0m\u001b[1;34m'Loaded data file'\u001b[0m\u001b[1;33m,\u001b[0m \u001b[0mfilename\u001b[0m\u001b[1;33m,\u001b[0m \u001b[1;34m'with'\u001b[0m\u001b[1;33m,\u001b[0m \u001b[0mlen\u001b[0m\u001b[1;33m(\u001b[0m\u001b[0mdataset\u001b[0m\u001b[1;33m)\u001b[0m\u001b[1;33m,\u001b[0m \u001b[1;34m'rows'\u001b[0m\u001b[1;33m)\u001b[0m\u001b[1;33m\u001b[0m\u001b[0m\n\u001b[0;32m      5\u001b[0m \u001b[1;33m\u001b[0m\u001b[0m\n",
      "\u001b[1;32m<ipython-input-1-5426e7960c7e>\u001b[0m in \u001b[0;36mloadCSV\u001b[1;34m(filename)\u001b[0m\n\u001b[0;32m      2\u001b[0m \u001b[1;33m\u001b[0m\u001b[0m\n\u001b[0;32m      3\u001b[0m \u001b[1;32mdef\u001b[0m \u001b[0mloadCSV\u001b[0m\u001b[1;33m(\u001b[0m\u001b[0mfilename\u001b[0m\u001b[1;33m)\u001b[0m\u001b[1;33m:\u001b[0m\u001b[1;33m\u001b[0m\u001b[0m\n\u001b[1;32m----> 4\u001b[1;33m     \u001b[0mlines\u001b[0m \u001b[1;33m=\u001b[0m \u001b[0mcsv\u001b[0m\u001b[1;33m.\u001b[0m\u001b[0mreader\u001b[0m\u001b[1;33m(\u001b[0m\u001b[0mopen\u001b[0m\u001b[1;33m(\u001b[0m\u001b[0mfilename\u001b[0m\u001b[1;33m,\u001b[0m \u001b[1;34m'r'\u001b[0m\u001b[1;33m)\u001b[0m\u001b[1;33m)\u001b[0m\u001b[1;33m\u001b[0m\u001b[0m\n\u001b[0m\u001b[0;32m      5\u001b[0m     \u001b[0mdataset\u001b[0m \u001b[1;33m=\u001b[0m \u001b[0mlist\u001b[0m\u001b[1;33m(\u001b[0m\u001b[0mlines\u001b[0m\u001b[1;33m)\u001b[0m\u001b[1;33m\u001b[0m\u001b[0m\n\u001b[0;32m      6\u001b[0m \u001b[1;31m#     for i in range(len(dataset)):\u001b[0m\u001b[1;33m\u001b[0m\u001b[1;33m\u001b[0m\u001b[0m\n",
      "\u001b[1;31mFileNotFoundError\u001b[0m: [Errno 2] No such file or directory: 'pima-indians-diabetes.data.txt'"
     ]
    }
   ],
   "source": [
    "#TEST 1\n",
    "filename = 'pima-indians-diabetes.data.txt'\n",
    "dataset = loadCSV(filename)\n",
    "print('Loaded data file', filename, 'with', len(dataset), 'rows')\n",
    "\n",
    "#TEST 2\n",
    "#dataset = [[1], [2], [3], [4], [5]]\n",
    "#splitRatio = 0.67\n",
    "#train, test = splitDataset(dataset, splitRatio)\n",
    "#print('Split', len(dataset), 'rows into train with', train, 'and test with', test)\n",
    "\n",
    "#TEST 3\n",
    "#dataset = [[1, 20, 1], [2, 21, 0], [3, 22, 1]]\n",
    "#separated = separateByClass(dataset)\n",
    "#print('Separated instances:', separated)\n",
    "\n",
    "#TEST 4\n",
    "#numbers = [1, 2, 3, 4, 5]\n",
    "#print('Summary of', numbers, ': mean=', mean(numbers), 'stdev=', stdev(numbers))\n",
    "\n",
    "#TEST 5\n",
    "#dataset = [[1, 20, 1], [2, 21, 0], [3, 22, 1]]\n",
    "#summary = summarize(dataset)\n",
    "#print('Attribute summaries', summary)\n",
    "\n",
    "#TEST 6\n",
    "#dataset = [[1, 20, 1], [2, 21, 0], [3, 22, 1], [4, 22, 0]]\n",
    "#summary = summarizeByClass(dataset)\n",
    "#print('Summary by class value', summary)\n",
    "\n",
    "#TEST 7\n",
    "#x = 71.5\n",
    "#thismean = 73\n",
    "#thisstdev = 6.2\n",
    "#probability = gaussianProbability(x, thismean, thisstdev)\n",
    "#print('Probability of belonging to this class', probability)\n",
    "\n",
    "#TEST 8\n",
    "#summaries = {0:[(1, 0.5)], 1:[(20, 5.0)]}\n",
    "#inputVector = [1.1, '?']\n",
    "#probabilities = gaussianByClass(summaries, inputVector)\n",
    "#print('Probabilities for each class', probabilities)\n",
    "\n",
    "#TEST 9\n",
    "#summaries = {'A':[(1, 0.5)], 'B':[(20, 5.0)]}\n",
    "#inputVector = [1.1, '?']\n",
    "#result = predict(summaries, inputVector)\n",
    "#print('Prediction:', result)\n",
    "\n",
    "#TEST 10\n",
    "#summaries = {'A':[(1, 0.5)], 'B':[(20, 5.0)]}\n",
    "#testSet = [[1.1, '?'], [19.1, '?']]\n",
    "#predictions = getPredictions(summaries, testSet)\n",
    "#print('Predictions:', predictions)\n",
    "\n",
    "#TEST 11\n",
    "#testSet = [[1, 1, 1, 'a'], [2, 2, 2, 'b'], [3, 3, 3, 'b']]\n",
    "#predictions = ['a', 'a', 'a']\n",
    "#accuracy = getAccuracy(testSet, predictions)\n",
    "#print('accuracy:', accuracy)"
   ]
  }
 ],
 "metadata": {
  "kernelspec": {
   "display_name": "Python 3",
   "language": "python",
   "name": "python3"
  },
  "language_info": {
   "codemirror_mode": {
    "name": "ipython",
    "version": 3
   },
   "file_extension": ".py",
   "mimetype": "text/x-python",
   "name": "python",
   "nbconvert_exporter": "python",
   "pygments_lexer": "ipython3",
   "version": "3.5.1"
  }
 },
 "nbformat": 4,
 "nbformat_minor": 0
}
